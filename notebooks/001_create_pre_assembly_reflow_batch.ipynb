{
 "cells": [
  {
   "cell_type": "code",
   "execution_count": 2,
   "metadata": {},
   "outputs": [],
   "source": [
    "import pandas as pd"
   ]
  },
  {
   "cell_type": "code",
   "execution_count": 10,
   "metadata": {},
   "outputs": [
    {
     "data": {
      "text/html": [
       "<div>\n",
       "<style scoped>\n",
       "    .dataframe tbody tr th:only-of-type {\n",
       "        vertical-align: middle;\n",
       "    }\n",
       "\n",
       "    .dataframe tbody tr th {\n",
       "        vertical-align: top;\n",
       "    }\n",
       "\n",
       "    .dataframe thead th {\n",
       "        text-align: right;\n",
       "    }\n",
       "</style>\n",
       "<table border=\"1\" class=\"dataframe\">\n",
       "  <thead>\n",
       "    <tr style=\"text-align: right;\">\n",
       "      <th></th>\n",
       "      <th>read1</th>\n",
       "      <th>read2</th>\n",
       "      <th>id</th>\n",
       "      <th>minlength</th>\n",
       "    </tr>\n",
       "    <tr>\n",
       "      <th>id</th>\n",
       "      <th></th>\n",
       "      <th></th>\n",
       "      <th></th>\n",
       "      <th></th>\n",
       "    </tr>\n",
       "  </thead>\n",
       "  <tbody>\n",
       "    <tr>\n",
       "      <th>Undetermined_S0</th>\n",
       "      <td>s3://czbiohub-seqbot/fastqs/180628_A00111_0168...</td>\n",
       "      <td>s3://czbiohub-seqbot/fastqs/180628_A00111_0168...</td>\n",
       "      <td>Undetermined_S0</td>\n",
       "      <td>135</td>\n",
       "    </tr>\n",
       "    <tr>\n",
       "      <th>tick_1_S1</th>\n",
       "      <td>s3://czbiohub-seqbot/fastqs/180628_A00111_0168...</td>\n",
       "      <td>s3://czbiohub-seqbot/fastqs/180628_A00111_0168...</td>\n",
       "      <td>tick_1_S1</td>\n",
       "      <td>135</td>\n",
       "    </tr>\n",
       "    <tr>\n",
       "      <th>tick_2_S2</th>\n",
       "      <td>s3://czbiohub-seqbot/fastqs/180628_A00111_0168...</td>\n",
       "      <td>s3://czbiohub-seqbot/fastqs/180628_A00111_0168...</td>\n",
       "      <td>tick_2_S2</td>\n",
       "      <td>135</td>\n",
       "    </tr>\n",
       "  </tbody>\n",
       "</table>\n",
       "</div>"
      ],
      "text/plain": [
       "                                                             read1  \\\n",
       "id                                                                   \n",
       "Undetermined_S0  s3://czbiohub-seqbot/fastqs/180628_A00111_0168...   \n",
       "tick_1_S1        s3://czbiohub-seqbot/fastqs/180628_A00111_0168...   \n",
       "tick_2_S2        s3://czbiohub-seqbot/fastqs/180628_A00111_0168...   \n",
       "\n",
       "                                                             read2  \\\n",
       "id                                                                   \n",
       "Undetermined_S0  s3://czbiohub-seqbot/fastqs/180628_A00111_0168...   \n",
       "tick_1_S1        s3://czbiohub-seqbot/fastqs/180628_A00111_0168...   \n",
       "tick_2_S2        s3://czbiohub-seqbot/fastqs/180628_A00111_0168...   \n",
       "\n",
       "                              id  minlength  \n",
       "id                                           \n",
       "Undetermined_S0  Undetermined_S0        135  \n",
       "tick_1_S1              tick_1_S1        135  \n",
       "tick_2_S2              tick_2_S2        135  "
      ]
     },
     "execution_count": 10,
     "metadata": {},
     "output_type": "execute_result"
    }
   ],
   "source": [
    "samples = pd.read_csv('../pre_assembly_qc/adapter_removal/samples.csv', index_col=0)\n",
    "samples = samples.rename(columns={'id.1': 'id'})\n",
    "samples = samples.drop(columns=['libprep', 'output'])\n",
    "samples.head()"
   ]
  },
  {
   "cell_type": "code",
   "execution_count": 11,
   "metadata": {},
   "outputs": [],
   "source": [
    "samples['output'] = 's3://tick-genome/dna/2018-06-28/pre-assembly_v3/'\n",
    "samples['adapter_list'] = '../nextera_pe_adapters.tsv'"
   ]
  },
  {
   "cell_type": "code",
   "execution_count": 12,
   "metadata": {},
   "outputs": [],
   "source": [
    "folder = '../pre_assembly_qc/full_workflow/'\n",
    "! mkdir $folder"
   ]
  },
  {
   "cell_type": "code",
   "execution_count": 15,
   "metadata": {},
   "outputs": [],
   "source": [
    "import json\n",
    "\n",
    "samples.to_csv(f'{folder}/samples.csv', index=False)\n",
    "\n",
    "config = dict(program='../../reflow/fastqc.rf', runs_file='samples.csv')\n",
    "\n",
    "with open(f'{folder}/config.json', 'w') as f:\n",
    "    json.dump(config, f)"
   ]
  },
  {
   "cell_type": "code",
   "execution_count": null,
   "metadata": {},
   "outputs": [],
   "source": []
  }
 ],
 "metadata": {
  "kernelspec": {
   "display_name": "Python [default]",
   "language": "python",
   "name": "python3"
  },
  "language_info": {
   "codemirror_mode": {
    "name": "ipython",
    "version": 3
   },
   "file_extension": ".py",
   "mimetype": "text/x-python",
   "name": "python",
   "nbconvert_exporter": "python",
   "pygments_lexer": "ipython3",
   "version": "3.6.5"
  }
 },
 "nbformat": 4,
 "nbformat_minor": 2
}
