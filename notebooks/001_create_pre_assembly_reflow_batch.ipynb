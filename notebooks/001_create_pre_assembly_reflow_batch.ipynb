{
 "cells": [
  {
   "cell_type": "code",
   "execution_count": 5,
   "metadata": {},
   "outputs": [],
   "source": [
    "import pandas as pd"
   ]
  },
  {
   "cell_type": "code",
   "execution_count": 6,
   "metadata": {},
   "outputs": [
    {
     "data": {
      "text/html": [
       "<div>\n",
       "<style scoped>\n",
       "    .dataframe tbody tr th:only-of-type {\n",
       "        vertical-align: middle;\n",
       "    }\n",
       "\n",
       "    .dataframe tbody tr th {\n",
       "        vertical-align: top;\n",
       "    }\n",
       "\n",
       "    .dataframe thead th {\n",
       "        text-align: right;\n",
       "    }\n",
       "</style>\n",
       "<table border=\"1\" class=\"dataframe\">\n",
       "  <thead>\n",
       "    <tr style=\"text-align: right;\">\n",
       "      <th></th>\n",
       "      <th>read1</th>\n",
       "      <th>read2</th>\n",
       "      <th>id</th>\n",
       "      <th>minlength</th>\n",
       "    </tr>\n",
       "    <tr>\n",
       "      <th>id</th>\n",
       "      <th></th>\n",
       "      <th></th>\n",
       "      <th></th>\n",
       "      <th></th>\n",
       "    </tr>\n",
       "  </thead>\n",
       "  <tbody>\n",
       "    <tr>\n",
       "      <th>Undetermined_S0</th>\n",
       "      <td>s3://czbiohub-seqbot/fastqs/180628_A00111_0168...</td>\n",
       "      <td>s3://czbiohub-seqbot/fastqs/180628_A00111_0168...</td>\n",
       "      <td>Undetermined_S0</td>\n",
       "      <td>135</td>\n",
       "    </tr>\n",
       "    <tr>\n",
       "      <th>tick_1_S1</th>\n",
       "      <td>s3://czbiohub-seqbot/fastqs/180628_A00111_0168...</td>\n",
       "      <td>s3://czbiohub-seqbot/fastqs/180628_A00111_0168...</td>\n",
       "      <td>tick_1_S1</td>\n",
       "      <td>135</td>\n",
       "    </tr>\n",
       "    <tr>\n",
       "      <th>tick_2_S2</th>\n",
       "      <td>s3://czbiohub-seqbot/fastqs/180628_A00111_0168...</td>\n",
       "      <td>s3://czbiohub-seqbot/fastqs/180628_A00111_0168...</td>\n",
       "      <td>tick_2_S2</td>\n",
       "      <td>135</td>\n",
       "    </tr>\n",
       "  </tbody>\n",
       "</table>\n",
       "</div>"
      ],
      "text/plain": [
       "                                                             read1  \\\n",
       "id                                                                   \n",
       "Undetermined_S0  s3://czbiohub-seqbot/fastqs/180628_A00111_0168...   \n",
       "tick_1_S1        s3://czbiohub-seqbot/fastqs/180628_A00111_0168...   \n",
       "tick_2_S2        s3://czbiohub-seqbot/fastqs/180628_A00111_0168...   \n",
       "\n",
       "                                                             read2  \\\n",
       "id                                                                   \n",
       "Undetermined_S0  s3://czbiohub-seqbot/fastqs/180628_A00111_0168...   \n",
       "tick_1_S1        s3://czbiohub-seqbot/fastqs/180628_A00111_0168...   \n",
       "tick_2_S2        s3://czbiohub-seqbot/fastqs/180628_A00111_0168...   \n",
       "\n",
       "                              id  minlength  \n",
       "id                                           \n",
       "Undetermined_S0  Undetermined_S0        135  \n",
       "tick_1_S1              tick_1_S1        135  \n",
       "tick_2_S2              tick_2_S2        135  "
      ]
     },
     "execution_count": 6,
     "metadata": {},
     "output_type": "execute_result"
    }
   ],
   "source": [
    "samples = pd.read_csv('../pre_assembly_qc/adapter_removal/samples.csv', index_col=0)\n",
    "samples = samples.rename(columns={'id.1': 'id'})\n",
    "samples = samples.drop(columns=['libprep', 'output'])\n",
    "samples.head()"
   ]
  },
  {
   "cell_type": "code",
   "execution_count": 7,
   "metadata": {},
   "outputs": [
    {
     "data": {
      "text/html": [
       "<div>\n",
       "<style scoped>\n",
       "    .dataframe tbody tr th:only-of-type {\n",
       "        vertical-align: middle;\n",
       "    }\n",
       "\n",
       "    .dataframe tbody tr th {\n",
       "        vertical-align: top;\n",
       "    }\n",
       "\n",
       "    .dataframe thead th {\n",
       "        text-align: right;\n",
       "    }\n",
       "</style>\n",
       "<table border=\"1\" class=\"dataframe\">\n",
       "  <thead>\n",
       "    <tr style=\"text-align: right;\">\n",
       "      <th></th>\n",
       "      <th>read1</th>\n",
       "      <th>read2</th>\n",
       "      <th>id</th>\n",
       "      <th>minlength</th>\n",
       "      <th>output</th>\n",
       "      <th>adapter_list</th>\n",
       "    </tr>\n",
       "    <tr>\n",
       "      <th>id</th>\n",
       "      <th></th>\n",
       "      <th></th>\n",
       "      <th></th>\n",
       "      <th></th>\n",
       "      <th></th>\n",
       "      <th></th>\n",
       "    </tr>\n",
       "  </thead>\n",
       "  <tbody>\n",
       "    <tr>\n",
       "      <th>Undetermined_S0</th>\n",
       "      <td>s3://czbiohub-seqbot/fastqs/180628_A00111_0168...</td>\n",
       "      <td>s3://czbiohub-seqbot/fastqs/180628_A00111_0168...</td>\n",
       "      <td>Undetermined_S0</td>\n",
       "      <td>135</td>\n",
       "      <td>s3://tick-genome/dna/2018-06-28/pre-assembly_v3/</td>\n",
       "      <td>../nextera_pe_adapters.tsv</td>\n",
       "    </tr>\n",
       "    <tr>\n",
       "      <th>tick_1_S1</th>\n",
       "      <td>s3://czbiohub-seqbot/fastqs/180628_A00111_0168...</td>\n",
       "      <td>s3://czbiohub-seqbot/fastqs/180628_A00111_0168...</td>\n",
       "      <td>tick_1_S1</td>\n",
       "      <td>135</td>\n",
       "      <td>s3://tick-genome/dna/2018-06-28/pre-assembly_v3/</td>\n",
       "      <td>../nextera_pe_adapters.tsv</td>\n",
       "    </tr>\n",
       "    <tr>\n",
       "      <th>tick_2_S2</th>\n",
       "      <td>s3://czbiohub-seqbot/fastqs/180628_A00111_0168...</td>\n",
       "      <td>s3://czbiohub-seqbot/fastqs/180628_A00111_0168...</td>\n",
       "      <td>tick_2_S2</td>\n",
       "      <td>135</td>\n",
       "      <td>s3://tick-genome/dna/2018-06-28/pre-assembly_v3/</td>\n",
       "      <td>../nextera_pe_adapters.tsv</td>\n",
       "    </tr>\n",
       "  </tbody>\n",
       "</table>\n",
       "</div>"
      ],
      "text/plain": [
       "                                                             read1  \\\n",
       "id                                                                   \n",
       "Undetermined_S0  s3://czbiohub-seqbot/fastqs/180628_A00111_0168...   \n",
       "tick_1_S1        s3://czbiohub-seqbot/fastqs/180628_A00111_0168...   \n",
       "tick_2_S2        s3://czbiohub-seqbot/fastqs/180628_A00111_0168...   \n",
       "\n",
       "                                                             read2  \\\n",
       "id                                                                   \n",
       "Undetermined_S0  s3://czbiohub-seqbot/fastqs/180628_A00111_0168...   \n",
       "tick_1_S1        s3://czbiohub-seqbot/fastqs/180628_A00111_0168...   \n",
       "tick_2_S2        s3://czbiohub-seqbot/fastqs/180628_A00111_0168...   \n",
       "\n",
       "                              id  minlength  \\\n",
       "id                                            \n",
       "Undetermined_S0  Undetermined_S0        135   \n",
       "tick_1_S1              tick_1_S1        135   \n",
       "tick_2_S2              tick_2_S2        135   \n",
       "\n",
       "                                                           output  \\\n",
       "id                                                                  \n",
       "Undetermined_S0  s3://tick-genome/dna/2018-06-28/pre-assembly_v3/   \n",
       "tick_1_S1        s3://tick-genome/dna/2018-06-28/pre-assembly_v3/   \n",
       "tick_2_S2        s3://tick-genome/dna/2018-06-28/pre-assembly_v3/   \n",
       "\n",
       "                               adapter_list  \n",
       "id                                           \n",
       "Undetermined_S0  ../nextera_pe_adapters.tsv  \n",
       "tick_1_S1        ../nextera_pe_adapters.tsv  \n",
       "tick_2_S2        ../nextera_pe_adapters.tsv  "
      ]
     },
     "execution_count": 7,
     "metadata": {},
     "output_type": "execute_result"
    }
   ],
   "source": [
    "samples['output'] = 's3://tick-genome/dna/2018-06-28/pre-assembly_v3/'\n",
    "samples['adapter_list'] = '../nextera_pe_adapters.tsv'\n",
    "samples.head()"
   ]
  },
  {
   "cell_type": "code",
   "execution_count": 8,
   "metadata": {},
   "outputs": [
    {
     "data": {
      "text/plain": [
       "{'dovetail_2018-05-06': 's3://tick-genome/dna/2018-10-10-dovetail/ixodes_scapularis_06May2018_kaVVW.fasta.gz',\n",
       " 'jcvi_ise6': 's3://tick-genome/dna/2018-10-11_ise6_asm2.2/GCA_002892825.2_ISE6_asm2.2_deduplicated_genomic.fna.gz'}"
      ]
     },
     "execution_count": 8,
     "metadata": {},
     "output_type": "execute_result"
    }
   ],
   "source": [
    "dovetail = 's3://tick-genome/dna/2018-10-10-dovetail/ixodes_scapularis_06May2018_kaVVW.fasta.gz'\n",
    "ise6_asm2_2 = 's3://tick-genome/dna/2018-10-11_ise6_asm2.2/GCA_002892825.2_ISE6_asm2.2_deduplicated_genomic.fna.gz'\n",
    "\n",
    "reference_fasta_gzs = {\"dovetail_2018-05-06\": dovetail, \"jcvi_ise6\": ise6_asm2_2}\n",
    "reference_fasta_gzs"
   ]
  },
  {
   "cell_type": "code",
   "execution_count": 12,
   "metadata": {},
   "outputs": [
    {
     "data": {
      "text/plain": [
       "'dovetail_2018-05-06|jcvi_ise6'"
      ]
     },
     "execution_count": 12,
     "metadata": {},
     "output_type": "execute_result"
    }
   ],
   "source": [
    "references_ids = '|'.join(reference_fasta_gzs.keys())\n",
    "references_ids"
   ]
  },
  {
   "cell_type": "code",
   "execution_count": 13,
   "metadata": {},
   "outputs": [
    {
     "data": {
      "text/plain": [
       "'s3://tick-genome/dna/2018-10-10-dovetail/ixodes_scapularis_06May2018_kaVVW.fasta.gz|s3://tick-genome/dna/2018-10-11_ise6_asm2.2/GCA_002892825.2_ISE6_asm2.2_deduplicated_genomic.fna.gz'"
      ]
     },
     "execution_count": 13,
     "metadata": {},
     "output_type": "execute_result"
    }
   ],
   "source": [
    "references = '|'.join(reference_fasta_gzs.values())\n",
    "references"
   ]
  },
  {
   "cell_type": "code",
   "execution_count": 14,
   "metadata": {},
   "outputs": [],
   "source": [
    "samples['references'] = references\n",
    "samples['references_ids'] = references_ids"
   ]
  },
  {
   "cell_type": "code",
   "execution_count": 15,
   "metadata": {},
   "outputs": [
    {
     "name": "stdout",
     "output_type": "stream",
     "text": [
      "mkdir: ../pre_assembly_qc/full_workflow/: File exists\r\n"
     ]
    }
   ],
   "source": [
    "folder = '../pre_assembly_qc/full_workflow/'\n",
    "! mkdir $folder"
   ]
  },
  {
   "cell_type": "code",
   "execution_count": 16,
   "metadata": {},
   "outputs": [],
   "source": [
    "import json\n",
    "\n",
    "samples.to_csv(f'{folder}/samples.csv', index=True)\n",
    "\n",
    "config = dict(program='../../reflow/pre-assembly.rf', runs_file='samples.csv')\n",
    "\n",
    "with open(f'{folder}/config.json', 'w') as f:\n",
    "    json.dump(config, f)"
   ]
  },
  {
   "cell_type": "code",
   "execution_count": null,
   "metadata": {},
   "outputs": [],
   "source": []
  }
 ],
 "metadata": {
  "kernelspec": {
   "display_name": "Python [default]",
   "language": "python",
   "name": "python3"
  },
  "language_info": {
   "codemirror_mode": {
    "name": "ipython",
    "version": 3
   },
   "file_extension": ".py",
   "mimetype": "text/x-python",
   "name": "python",
   "nbconvert_exporter": "python",
   "pygments_lexer": "ipython3",
   "version": "3.6.5"
  }
 },
 "nbformat": 4,
 "nbformat_minor": 2
}
