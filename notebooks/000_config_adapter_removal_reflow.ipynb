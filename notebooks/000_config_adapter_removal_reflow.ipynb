{
 "cells": [
  {
   "cell_type": "code",
   "execution_count": 1,
   "metadata": {
    "collapsed": true
   },
   "outputs": [],
   "source": [
    "import pandas as pd\n",
    " \n",
    "import json\n",
    "\n",
    "prefix = 's3://czbiohub-seqbot/fastqs/180628_A00111_0168_AHFVJVDMXX/rawdata/'\n",
    "\n",
    "aws_s3_ls = ! aws s3 ls $prefix"
   ]
  },
  {
   "cell_type": "code",
   "execution_count": 2,
   "metadata": {},
   "outputs": [
    {
     "name": "stdout",
     "output_type": "stream",
     "text": [
      "['2018-06-30 17:10:48 17498060325 Undetermined_S0_R1_001.fastq.gz', '2018-06-30 17:10:48 17934291414 Undetermined_S0_R2_001.fastq.gz', '2018-06-30 17:10:48 135904490012 tick_1_S1_R1_001.fastq.gz', '2018-06-30 17:10:48 140224587456 tick_1_S1_R2_001.fastq.gz', '2018-06-30 17:10:48 153875834035 tick_2_S2_R1_001.fastq.gz', '2018-06-30 17:29:13 159886321067 tick_2_S2_R2_001.fastq.gz']\n"
     ]
    }
   ],
   "source": [
    "print(aws_s3_ls)"
   ]
  },
  {
   "cell_type": "code",
   "execution_count": 3,
   "metadata": {},
   "outputs": [
    {
     "data": {
      "text/html": [
       "<div>\n",
       "<style scoped>\n",
       "    .dataframe tbody tr th:only-of-type {\n",
       "        vertical-align: middle;\n",
       "    }\n",
       "\n",
       "    .dataframe tbody tr th {\n",
       "        vertical-align: top;\n",
       "    }\n",
       "\n",
       "    .dataframe thead th {\n",
       "        text-align: right;\n",
       "    }\n",
       "</style>\n",
       "<table border=\"1\" class=\"dataframe\">\n",
       "  <thead>\n",
       "    <tr style=\"text-align: right;\">\n",
       "      <th></th>\n",
       "      <th>0</th>\n",
       "      <th>1</th>\n",
       "      <th>2</th>\n",
       "      <th>3</th>\n",
       "    </tr>\n",
       "  </thead>\n",
       "  <tbody>\n",
       "    <tr>\n",
       "      <th>0</th>\n",
       "      <td>2018-06-30</td>\n",
       "      <td>17:10:48</td>\n",
       "      <td>17498060325</td>\n",
       "      <td>Undetermined_S0_R1_001.fastq.gz</td>\n",
       "    </tr>\n",
       "    <tr>\n",
       "      <th>1</th>\n",
       "      <td>2018-06-30</td>\n",
       "      <td>17:10:48</td>\n",
       "      <td>17934291414</td>\n",
       "      <td>Undetermined_S0_R2_001.fastq.gz</td>\n",
       "    </tr>\n",
       "    <tr>\n",
       "      <th>2</th>\n",
       "      <td>2018-06-30</td>\n",
       "      <td>17:10:48</td>\n",
       "      <td>135904490012</td>\n",
       "      <td>tick_1_S1_R1_001.fastq.gz</td>\n",
       "    </tr>\n",
       "    <tr>\n",
       "      <th>3</th>\n",
       "      <td>2018-06-30</td>\n",
       "      <td>17:10:48</td>\n",
       "      <td>140224587456</td>\n",
       "      <td>tick_1_S1_R2_001.fastq.gz</td>\n",
       "    </tr>\n",
       "    <tr>\n",
       "      <th>4</th>\n",
       "      <td>2018-06-30</td>\n",
       "      <td>17:10:48</td>\n",
       "      <td>153875834035</td>\n",
       "      <td>tick_2_S2_R1_001.fastq.gz</td>\n",
       "    </tr>\n",
       "    <tr>\n",
       "      <th>5</th>\n",
       "      <td>2018-06-30</td>\n",
       "      <td>17:29:13</td>\n",
       "      <td>159886321067</td>\n",
       "      <td>tick_2_S2_R2_001.fastq.gz</td>\n",
       "    </tr>\n",
       "  </tbody>\n",
       "</table>\n",
       "</div>"
      ],
      "text/plain": [
       "            0         1             2                                3\n",
       "0  2018-06-30  17:10:48   17498060325  Undetermined_S0_R1_001.fastq.gz\n",
       "1  2018-06-30  17:10:48   17934291414  Undetermined_S0_R2_001.fastq.gz\n",
       "2  2018-06-30  17:10:48  135904490012        tick_1_S1_R1_001.fastq.gz\n",
       "3  2018-06-30  17:10:48  140224587456        tick_1_S1_R2_001.fastq.gz\n",
       "4  2018-06-30  17:10:48  153875834035        tick_2_S2_R1_001.fastq.gz\n",
       "5  2018-06-30  17:29:13  159886321067        tick_2_S2_R2_001.fastq.gz"
      ]
     },
     "execution_count": 3,
     "metadata": {},
     "output_type": "execute_result"
    }
   ],
   "source": [
    "from io import StringIO\n",
    "\n",
    "data = '\\n'.join(aws_s3_ls)\n",
    "aws_samples = pd.read_table(StringIO(data), sep='\\s+', header=None)\n",
    "aws_samples"
   ]
  },
  {
   "cell_type": "code",
   "execution_count": 7,
   "metadata": {},
   "outputs": [
    {
     "data": {
      "text/html": [
       "<div>\n",
       "<style scoped>\n",
       "    .dataframe tbody tr th:only-of-type {\n",
       "        vertical-align: middle;\n",
       "    }\n",
       "\n",
       "    .dataframe tbody tr th {\n",
       "        vertical-align: top;\n",
       "    }\n",
       "\n",
       "    .dataframe thead th {\n",
       "        text-align: right;\n",
       "    }\n",
       "</style>\n",
       "<table border=\"1\" class=\"dataframe\">\n",
       "  <thead>\n",
       "    <tr style=\"text-align: right;\">\n",
       "      <th></th>\n",
       "      <th>0</th>\n",
       "      <th>1</th>\n",
       "      <th>2</th>\n",
       "      <th>3</th>\n",
       "      <th>id</th>\n",
       "      <th>reads</th>\n",
       "      <th>output</th>\n",
       "      <th>read_number</th>\n",
       "    </tr>\n",
       "  </thead>\n",
       "  <tbody>\n",
       "    <tr>\n",
       "      <th>0</th>\n",
       "      <td>2018-06-30</td>\n",
       "      <td>17:10:48</td>\n",
       "      <td>17498060325</td>\n",
       "      <td>Undetermined_S0_R1_001.fastq.gz</td>\n",
       "      <td>Undetermined_S0</td>\n",
       "      <td>s3://czbiohub-seqbot/fastqs/180628_A00111_0168...</td>\n",
       "      <td>s3://tick-genome/dna/2018-06-28/pre-assembly_q...</td>\n",
       "      <td>R1</td>\n",
       "    </tr>\n",
       "    <tr>\n",
       "      <th>1</th>\n",
       "      <td>2018-06-30</td>\n",
       "      <td>17:10:48</td>\n",
       "      <td>17934291414</td>\n",
       "      <td>Undetermined_S0_R2_001.fastq.gz</td>\n",
       "      <td>Undetermined_S0</td>\n",
       "      <td>s3://czbiohub-seqbot/fastqs/180628_A00111_0168...</td>\n",
       "      <td>s3://tick-genome/dna/2018-06-28/pre-assembly_q...</td>\n",
       "      <td>R2</td>\n",
       "    </tr>\n",
       "    <tr>\n",
       "      <th>2</th>\n",
       "      <td>2018-06-30</td>\n",
       "      <td>17:10:48</td>\n",
       "      <td>135904490012</td>\n",
       "      <td>tick_1_S1_R1_001.fastq.gz</td>\n",
       "      <td>tick_1_S1</td>\n",
       "      <td>s3://czbiohub-seqbot/fastqs/180628_A00111_0168...</td>\n",
       "      <td>s3://tick-genome/dna/2018-06-28/pre-assembly_q...</td>\n",
       "      <td>R1</td>\n",
       "    </tr>\n",
       "    <tr>\n",
       "      <th>3</th>\n",
       "      <td>2018-06-30</td>\n",
       "      <td>17:10:48</td>\n",
       "      <td>140224587456</td>\n",
       "      <td>tick_1_S1_R2_001.fastq.gz</td>\n",
       "      <td>tick_1_S1</td>\n",
       "      <td>s3://czbiohub-seqbot/fastqs/180628_A00111_0168...</td>\n",
       "      <td>s3://tick-genome/dna/2018-06-28/pre-assembly_q...</td>\n",
       "      <td>R2</td>\n",
       "    </tr>\n",
       "    <tr>\n",
       "      <th>4</th>\n",
       "      <td>2018-06-30</td>\n",
       "      <td>17:10:48</td>\n",
       "      <td>153875834035</td>\n",
       "      <td>tick_2_S2_R1_001.fastq.gz</td>\n",
       "      <td>tick_2_S2</td>\n",
       "      <td>s3://czbiohub-seqbot/fastqs/180628_A00111_0168...</td>\n",
       "      <td>s3://tick-genome/dna/2018-06-28/pre-assembly_q...</td>\n",
       "      <td>R1</td>\n",
       "    </tr>\n",
       "    <tr>\n",
       "      <th>5</th>\n",
       "      <td>2018-06-30</td>\n",
       "      <td>17:29:13</td>\n",
       "      <td>159886321067</td>\n",
       "      <td>tick_2_S2_R2_001.fastq.gz</td>\n",
       "      <td>tick_2_S2</td>\n",
       "      <td>s3://czbiohub-seqbot/fastqs/180628_A00111_0168...</td>\n",
       "      <td>s3://tick-genome/dna/2018-06-28/pre-assembly_q...</td>\n",
       "      <td>R2</td>\n",
       "    </tr>\n",
       "  </tbody>\n",
       "</table>\n",
       "</div>"
      ],
      "text/plain": [
       "            0         1             2                                3  \\\n",
       "0  2018-06-30  17:10:48   17498060325  Undetermined_S0_R1_001.fastq.gz   \n",
       "1  2018-06-30  17:10:48   17934291414  Undetermined_S0_R2_001.fastq.gz   \n",
       "2  2018-06-30  17:10:48  135904490012        tick_1_S1_R1_001.fastq.gz   \n",
       "3  2018-06-30  17:10:48  140224587456        tick_1_S1_R2_001.fastq.gz   \n",
       "4  2018-06-30  17:10:48  153875834035        tick_2_S2_R1_001.fastq.gz   \n",
       "5  2018-06-30  17:29:13  159886321067        tick_2_S2_R2_001.fastq.gz   \n",
       "\n",
       "                id                                              reads  \\\n",
       "0  Undetermined_S0  s3://czbiohub-seqbot/fastqs/180628_A00111_0168...   \n",
       "1  Undetermined_S0  s3://czbiohub-seqbot/fastqs/180628_A00111_0168...   \n",
       "2        tick_1_S1  s3://czbiohub-seqbot/fastqs/180628_A00111_0168...   \n",
       "3        tick_1_S1  s3://czbiohub-seqbot/fastqs/180628_A00111_0168...   \n",
       "4        tick_2_S2  s3://czbiohub-seqbot/fastqs/180628_A00111_0168...   \n",
       "5        tick_2_S2  s3://czbiohub-seqbot/fastqs/180628_A00111_0168...   \n",
       "\n",
       "                                              output read_number  \n",
       "0  s3://tick-genome/dna/2018-06-28/pre-assembly_q...          R1  \n",
       "1  s3://tick-genome/dna/2018-06-28/pre-assembly_q...          R2  \n",
       "2  s3://tick-genome/dna/2018-06-28/pre-assembly_q...          R1  \n",
       "3  s3://tick-genome/dna/2018-06-28/pre-assembly_q...          R2  \n",
       "4  s3://tick-genome/dna/2018-06-28/pre-assembly_q...          R1  \n",
       "5  s3://tick-genome/dna/2018-06-28/pre-assembly_q...          R2  "
      ]
     },
     "execution_count": 7,
     "metadata": {},
     "output_type": "execute_result"
    }
   ],
   "source": [
    "aws_samples['id'] = aws_samples[3].str.extract('(.+)_R[12]')\n",
    "aws_samples['read_number'] = aws_samples[3].str.extract('_(R[12])_')\n",
    "aws_samples['reads'] = prefix + aws_samples[3]\n",
    "aws_samples['output'] = 's3://tick-genome/dna/2018-06-28/pre-assembly_quality_control/reports/'\n",
    "aws_samples"
   ]
  },
  {
   "cell_type": "code",
   "execution_count": 10,
   "metadata": {},
   "outputs": [
    {
     "data": {
      "text/html": [
       "<div>\n",
       "<style scoped>\n",
       "    .dataframe tbody tr th:only-of-type {\n",
       "        vertical-align: middle;\n",
       "    }\n",
       "\n",
       "    .dataframe tbody tr th {\n",
       "        vertical-align: top;\n",
       "    }\n",
       "\n",
       "    .dataframe thead th {\n",
       "        text-align: right;\n",
       "    }\n",
       "</style>\n",
       "<table border=\"1\" class=\"dataframe\">\n",
       "  <thead>\n",
       "    <tr style=\"text-align: right;\">\n",
       "      <th>read_number</th>\n",
       "      <th>read1</th>\n",
       "      <th>read2</th>\n",
       "      <th>id</th>\n",
       "      <th>libprep</th>\n",
       "      <th>output</th>\n",
       "    </tr>\n",
       "    <tr>\n",
       "      <th>id</th>\n",
       "      <th></th>\n",
       "      <th></th>\n",
       "      <th></th>\n",
       "      <th></th>\n",
       "      <th></th>\n",
       "    </tr>\n",
       "  </thead>\n",
       "  <tbody>\n",
       "    <tr>\n",
       "      <th>Undetermined_S0</th>\n",
       "      <td>s3://czbiohub-seqbot/fastqs/180628_A00111_0168...</td>\n",
       "      <td>s3://czbiohub-seqbot/fastqs/180628_A00111_0168...</td>\n",
       "      <td>Undetermined_S0</td>\n",
       "      <td>nextera</td>\n",
       "      <td>s3://tick-genome/dna/2018-06-28/adapter_trimmed</td>\n",
       "    </tr>\n",
       "    <tr>\n",
       "      <th>tick_1_S1</th>\n",
       "      <td>s3://czbiohub-seqbot/fastqs/180628_A00111_0168...</td>\n",
       "      <td>s3://czbiohub-seqbot/fastqs/180628_A00111_0168...</td>\n",
       "      <td>tick_1_S1</td>\n",
       "      <td>nextera</td>\n",
       "      <td>s3://tick-genome/dna/2018-06-28/adapter_trimmed</td>\n",
       "    </tr>\n",
       "    <tr>\n",
       "      <th>tick_2_S2</th>\n",
       "      <td>s3://czbiohub-seqbot/fastqs/180628_A00111_0168...</td>\n",
       "      <td>s3://czbiohub-seqbot/fastqs/180628_A00111_0168...</td>\n",
       "      <td>tick_2_S2</td>\n",
       "      <td>nextera</td>\n",
       "      <td>s3://tick-genome/dna/2018-06-28/adapter_trimmed</td>\n",
       "    </tr>\n",
       "  </tbody>\n",
       "</table>\n",
       "</div>"
      ],
      "text/plain": [
       "read_number                                                  read1  \\\n",
       "id                                                                   \n",
       "Undetermined_S0  s3://czbiohub-seqbot/fastqs/180628_A00111_0168...   \n",
       "tick_1_S1        s3://czbiohub-seqbot/fastqs/180628_A00111_0168...   \n",
       "tick_2_S2        s3://czbiohub-seqbot/fastqs/180628_A00111_0168...   \n",
       "\n",
       "read_number                                                  read2  \\\n",
       "id                                                                   \n",
       "Undetermined_S0  s3://czbiohub-seqbot/fastqs/180628_A00111_0168...   \n",
       "tick_1_S1        s3://czbiohub-seqbot/fastqs/180628_A00111_0168...   \n",
       "tick_2_S2        s3://czbiohub-seqbot/fastqs/180628_A00111_0168...   \n",
       "\n",
       "read_number                   id  libprep  \\\n",
       "id                                          \n",
       "Undetermined_S0  Undetermined_S0  nextera   \n",
       "tick_1_S1              tick_1_S1  nextera   \n",
       "tick_2_S2              tick_2_S2  nextera   \n",
       "\n",
       "read_number                                               output  \n",
       "id                                                                \n",
       "Undetermined_S0  s3://tick-genome/dna/2018-06-28/adapter_trimmed  \n",
       "tick_1_S1        s3://tick-genome/dna/2018-06-28/adapter_trimmed  \n",
       "tick_2_S2        s3://tick-genome/dna/2018-06-28/adapter_trimmed  "
      ]
     },
     "execution_count": 10,
     "metadata": {},
     "output_type": "execute_result"
    }
   ],
   "source": [
    "samples = aws_samples.pivot(index='id', values='reads', columns='read_number')\n",
    "samples['id'] = samples.index\n",
    "samples = samples.rename(columns={'R1': \"read1\", \"R2\": 'read2'})\n",
    "samples['libprep'] = \"nextera\"\n",
    "samples['output'] = 's3://tick-genome/dna/2018-06-28/adapter_trimmed'\n",
    "samples"
   ]
  },
  {
   "cell_type": "code",
   "execution_count": 13,
   "metadata": {
    "collapsed": true
   },
   "outputs": [],
   "source": [
    "folder = '../pre_assembly_qc/adapter_removal/'\n",
    "! mkdir $folder"
   ]
  },
  {
   "cell_type": "code",
   "execution_count": 14,
   "metadata": {},
   "outputs": [
    {
     "name": "stdout",
     "output_type": "stream",
     "text": [
      "/Users/olgabot/code/tick-genome/pre_assembly_qc/adapter_removal\n"
     ]
    }
   ],
   "source": [
    "cd $folder"
   ]
  },
  {
   "cell_type": "code",
   "execution_count": 15,
   "metadata": {
    "collapsed": true
   },
   "outputs": [],
   "source": [
    "samples.to_csv(f'samples.csv', index=True)"
   ]
  },
  {
   "cell_type": "code",
   "execution_count": 19,
   "metadata": {
    "collapsed": true
   },
   "outputs": [],
   "source": [
    "config = dict(program='../../reflow/adapter_removal.rf', runs_file='samples.csv')\n",
    "\n",
    "with open('config.json', 'w') as f:\n",
    "    json.dump(config, f)"
   ]
  },
  {
   "cell_type": "code",
   "execution_count": 20,
   "metadata": {},
   "outputs": [
    {
     "name": "stdout",
     "output_type": "stream",
     "text": [
      "total 16\r\n",
      "drwxr-xr-x  4 olgabot  staff   136B Jul 18 10:55 \u001b[1m\u001b[36m.\u001b[m\u001b[m/\r\n",
      "drwxr-xr-x  5 olgabot  staff   170B Jul 18 10:55 \u001b[1m\u001b[36m..\u001b[m\u001b[m/\r\n",
      "-rw-r--r--  1 olgabot  staff    74B Jul 18 10:55 config.json\r\n",
      "-rw-r--r--  1 olgabot  staff   837B Jul 18 10:55 samples.csv\r\n"
     ]
    }
   ],
   "source": [
    "ls -lha"
   ]
  },
  {
   "cell_type": "code",
   "execution_count": 21,
   "metadata": {},
   "outputs": [
    {
     "name": "stdout",
     "output_type": "stream",
     "text": [
      "id,read1,read2,id,libprep,output\r\n",
      "Undetermined_S0,s3://czbiohub-seqbot/fastqs/180628_A00111_0168_AHFVJVDMXX/rawdata/Undetermined_S0_R1_001.fastq.gz,s3://czbiohub-seqbot/fastqs/180628_A00111_0168_AHFVJVDMXX/rawdata/Undetermined_S0_R2_001.fastq.gz,Undetermined_S0,nextera,s3://tick-genome/dna/2018-06-28/adapter_trimmed\r\n",
      "tick_1_S1,s3://czbiohub-seqbot/fastqs/180628_A00111_0168_AHFVJVDMXX/rawdata/tick_1_S1_R1_001.fastq.gz,s3://czbiohub-seqbot/fastqs/180628_A00111_0168_AHFVJVDMXX/rawdata/tick_1_S1_R2_001.fastq.gz,tick_1_S1,nextera,s3://tick-genome/dna/2018-06-28/adapter_trimmed\r\n",
      "tick_2_S2,s3://czbiohub-seqbot/fastqs/180628_A00111_0168_AHFVJVDMXX/rawdata/tick_2_S2_R1_001.fastq.gz,s3://czbiohub-seqbot/fastqs/180628_A00111_0168_AHFVJVDMXX/rawdata/tick_2_S2_R2_001.fastq.gz,tick_2_S2,nextera,s3://tick-genome/dna/2018-06-28/adapter_trimmed\r\n"
     ]
    }
   ],
   "source": [
    "! head samples.csv"
   ]
  },
  {
   "cell_type": "code",
   "execution_count": null,
   "metadata": {
    "collapsed": true
   },
   "outputs": [],
   "source": []
  }
 ],
 "metadata": {
  "kernelspec": {
   "display_name": "Python 3.6 (tick-genome-env)",
   "language": "python",
   "name": "tick-genome-env"
  },
  "language_info": {
   "codemirror_mode": {
    "name": "ipython",
    "version": 3
   },
   "file_extension": ".py",
   "mimetype": "text/x-python",
   "name": "python",
   "nbconvert_exporter": "python",
   "pygments_lexer": "ipython3",
   "version": "3.6.6"
  }
 },
 "nbformat": 4,
 "nbformat_minor": 2
}
