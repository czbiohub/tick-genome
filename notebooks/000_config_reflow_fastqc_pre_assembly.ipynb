{
 "cells": [
  {
   "cell_type": "code",
   "execution_count": 32,
   "metadata": {
    "collapsed": true
   },
   "outputs": [],
   "source": [
    "import pandas as pd\n",
    " \n",
    "import json\n",
    "\n",
    "prefix = 's3://czbiohub-seqbot/fastqs/180628_A00111_0168_AHFVJVDMXX/rawdata/'\n",
    "\n",
    "aws_s3_ls = ! aws s3 ls $prefix"
   ]
  },
  {
   "cell_type": "code",
   "execution_count": 33,
   "metadata": {},
   "outputs": [
    {
     "name": "stdout",
     "output_type": "stream",
     "text": [
      "['2018-06-30 17:10:48 17498060325 Undetermined_S0_R1_001.fastq.gz', '2018-06-30 17:10:48 17934291414 Undetermined_S0_R2_001.fastq.gz', '2018-06-30 17:10:48 135904490012 tick_1_S1_R1_001.fastq.gz', '2018-06-30 17:10:48 140224587456 tick_1_S1_R2_001.fastq.gz', '2018-06-30 17:10:48 153875834035 tick_2_S2_R1_001.fastq.gz', '2018-06-30 17:29:13 159886321067 tick_2_S2_R2_001.fastq.gz']\n"
     ]
    }
   ],
   "source": [
    "print(aws_s3_ls)"
   ]
  },
  {
   "cell_type": "code",
   "execution_count": 34,
   "metadata": {},
   "outputs": [
    {
     "data": {
      "text/html": [
       "<div>\n",
       "<style scoped>\n",
       "    .dataframe tbody tr th:only-of-type {\n",
       "        vertical-align: middle;\n",
       "    }\n",
       "\n",
       "    .dataframe tbody tr th {\n",
       "        vertical-align: top;\n",
       "    }\n",
       "\n",
       "    .dataframe thead th {\n",
       "        text-align: right;\n",
       "    }\n",
       "</style>\n",
       "<table border=\"1\" class=\"dataframe\">\n",
       "  <thead>\n",
       "    <tr style=\"text-align: right;\">\n",
       "      <th></th>\n",
       "      <th>0</th>\n",
       "      <th>1</th>\n",
       "      <th>2</th>\n",
       "      <th>3</th>\n",
       "    </tr>\n",
       "  </thead>\n",
       "  <tbody>\n",
       "    <tr>\n",
       "      <th>0</th>\n",
       "      <td>2018-06-30</td>\n",
       "      <td>17:10:48</td>\n",
       "      <td>17498060325</td>\n",
       "      <td>Undetermined_S0_R1_001.fastq.gz</td>\n",
       "    </tr>\n",
       "    <tr>\n",
       "      <th>1</th>\n",
       "      <td>2018-06-30</td>\n",
       "      <td>17:10:48</td>\n",
       "      <td>17934291414</td>\n",
       "      <td>Undetermined_S0_R2_001.fastq.gz</td>\n",
       "    </tr>\n",
       "    <tr>\n",
       "      <th>2</th>\n",
       "      <td>2018-06-30</td>\n",
       "      <td>17:10:48</td>\n",
       "      <td>135904490012</td>\n",
       "      <td>tick_1_S1_R1_001.fastq.gz</td>\n",
       "    </tr>\n",
       "    <tr>\n",
       "      <th>3</th>\n",
       "      <td>2018-06-30</td>\n",
       "      <td>17:10:48</td>\n",
       "      <td>140224587456</td>\n",
       "      <td>tick_1_S1_R2_001.fastq.gz</td>\n",
       "    </tr>\n",
       "    <tr>\n",
       "      <th>4</th>\n",
       "      <td>2018-06-30</td>\n",
       "      <td>17:10:48</td>\n",
       "      <td>153875834035</td>\n",
       "      <td>tick_2_S2_R1_001.fastq.gz</td>\n",
       "    </tr>\n",
       "    <tr>\n",
       "      <th>5</th>\n",
       "      <td>2018-06-30</td>\n",
       "      <td>17:29:13</td>\n",
       "      <td>159886321067</td>\n",
       "      <td>tick_2_S2_R2_001.fastq.gz</td>\n",
       "    </tr>\n",
       "  </tbody>\n",
       "</table>\n",
       "</div>"
      ],
      "text/plain": [
       "            0         1             2                                3\n",
       "0  2018-06-30  17:10:48   17498060325  Undetermined_S0_R1_001.fastq.gz\n",
       "1  2018-06-30  17:10:48   17934291414  Undetermined_S0_R2_001.fastq.gz\n",
       "2  2018-06-30  17:10:48  135904490012        tick_1_S1_R1_001.fastq.gz\n",
       "3  2018-06-30  17:10:48  140224587456        tick_1_S1_R2_001.fastq.gz\n",
       "4  2018-06-30  17:10:48  153875834035        tick_2_S2_R1_001.fastq.gz\n",
       "5  2018-06-30  17:29:13  159886321067        tick_2_S2_R2_001.fastq.gz"
      ]
     },
     "execution_count": 34,
     "metadata": {},
     "output_type": "execute_result"
    }
   ],
   "source": [
    "from io import StringIO\n",
    "\n",
    "data = '\\n'.join(aws_s3_ls)\n",
    "aws_samples = pd.read_table(StringIO(data), sep='\\s+', header=None)\n",
    "aws_samples"
   ]
  },
  {
   "cell_type": "code",
   "execution_count": 35,
   "metadata": {},
   "outputs": [
    {
     "data": {
      "text/html": [
       "<div>\n",
       "<style scoped>\n",
       "    .dataframe tbody tr th:only-of-type {\n",
       "        vertical-align: middle;\n",
       "    }\n",
       "\n",
       "    .dataframe tbody tr th {\n",
       "        vertical-align: top;\n",
       "    }\n",
       "\n",
       "    .dataframe thead th {\n",
       "        text-align: right;\n",
       "    }\n",
       "</style>\n",
       "<table border=\"1\" class=\"dataframe\">\n",
       "  <thead>\n",
       "    <tr style=\"text-align: right;\">\n",
       "      <th></th>\n",
       "      <th>0</th>\n",
       "      <th>1</th>\n",
       "      <th>2</th>\n",
       "      <th>3</th>\n",
       "      <th>id</th>\n",
       "      <th>reads</th>\n",
       "      <th>output</th>\n",
       "    </tr>\n",
       "  </thead>\n",
       "  <tbody>\n",
       "    <tr>\n",
       "      <th>0</th>\n",
       "      <td>2018-06-30</td>\n",
       "      <td>17:10:48</td>\n",
       "      <td>17498060325</td>\n",
       "      <td>Undetermined_S0_R1_001.fastq.gz</td>\n",
       "      <td>Undetermined_S0_R1</td>\n",
       "      <td>s3://czbiohub-seqbot/fastqs/180628_A00111_0168...</td>\n",
       "      <td>s3://tick-genome/dna/2018-06-28/pre-assembly_q...</td>\n",
       "    </tr>\n",
       "    <tr>\n",
       "      <th>1</th>\n",
       "      <td>2018-06-30</td>\n",
       "      <td>17:10:48</td>\n",
       "      <td>17934291414</td>\n",
       "      <td>Undetermined_S0_R2_001.fastq.gz</td>\n",
       "      <td>Undetermined_S0_R2</td>\n",
       "      <td>s3://czbiohub-seqbot/fastqs/180628_A00111_0168...</td>\n",
       "      <td>s3://tick-genome/dna/2018-06-28/pre-assembly_q...</td>\n",
       "    </tr>\n",
       "    <tr>\n",
       "      <th>2</th>\n",
       "      <td>2018-06-30</td>\n",
       "      <td>17:10:48</td>\n",
       "      <td>135904490012</td>\n",
       "      <td>tick_1_S1_R1_001.fastq.gz</td>\n",
       "      <td>tick_1_S1_R1</td>\n",
       "      <td>s3://czbiohub-seqbot/fastqs/180628_A00111_0168...</td>\n",
       "      <td>s3://tick-genome/dna/2018-06-28/pre-assembly_q...</td>\n",
       "    </tr>\n",
       "    <tr>\n",
       "      <th>3</th>\n",
       "      <td>2018-06-30</td>\n",
       "      <td>17:10:48</td>\n",
       "      <td>140224587456</td>\n",
       "      <td>tick_1_S1_R2_001.fastq.gz</td>\n",
       "      <td>tick_1_S1_R2</td>\n",
       "      <td>s3://czbiohub-seqbot/fastqs/180628_A00111_0168...</td>\n",
       "      <td>s3://tick-genome/dna/2018-06-28/pre-assembly_q...</td>\n",
       "    </tr>\n",
       "    <tr>\n",
       "      <th>4</th>\n",
       "      <td>2018-06-30</td>\n",
       "      <td>17:10:48</td>\n",
       "      <td>153875834035</td>\n",
       "      <td>tick_2_S2_R1_001.fastq.gz</td>\n",
       "      <td>tick_2_S2_R1</td>\n",
       "      <td>s3://czbiohub-seqbot/fastqs/180628_A00111_0168...</td>\n",
       "      <td>s3://tick-genome/dna/2018-06-28/pre-assembly_q...</td>\n",
       "    </tr>\n",
       "    <tr>\n",
       "      <th>5</th>\n",
       "      <td>2018-06-30</td>\n",
       "      <td>17:29:13</td>\n",
       "      <td>159886321067</td>\n",
       "      <td>tick_2_S2_R2_001.fastq.gz</td>\n",
       "      <td>tick_2_S2_R2</td>\n",
       "      <td>s3://czbiohub-seqbot/fastqs/180628_A00111_0168...</td>\n",
       "      <td>s3://tick-genome/dna/2018-06-28/pre-assembly_q...</td>\n",
       "    </tr>\n",
       "  </tbody>\n",
       "</table>\n",
       "</div>"
      ],
      "text/plain": [
       "            0         1             2                                3  \\\n",
       "0  2018-06-30  17:10:48   17498060325  Undetermined_S0_R1_001.fastq.gz   \n",
       "1  2018-06-30  17:10:48   17934291414  Undetermined_S0_R2_001.fastq.gz   \n",
       "2  2018-06-30  17:10:48  135904490012        tick_1_S1_R1_001.fastq.gz   \n",
       "3  2018-06-30  17:10:48  140224587456        tick_1_S1_R2_001.fastq.gz   \n",
       "4  2018-06-30  17:10:48  153875834035        tick_2_S2_R1_001.fastq.gz   \n",
       "5  2018-06-30  17:29:13  159886321067        tick_2_S2_R2_001.fastq.gz   \n",
       "\n",
       "                   id                                              reads  \\\n",
       "0  Undetermined_S0_R1  s3://czbiohub-seqbot/fastqs/180628_A00111_0168...   \n",
       "1  Undetermined_S0_R2  s3://czbiohub-seqbot/fastqs/180628_A00111_0168...   \n",
       "2        tick_1_S1_R1  s3://czbiohub-seqbot/fastqs/180628_A00111_0168...   \n",
       "3        tick_1_S1_R2  s3://czbiohub-seqbot/fastqs/180628_A00111_0168...   \n",
       "4        tick_2_S2_R1  s3://czbiohub-seqbot/fastqs/180628_A00111_0168...   \n",
       "5        tick_2_S2_R2  s3://czbiohub-seqbot/fastqs/180628_A00111_0168...   \n",
       "\n",
       "                                              output  \n",
       "0  s3://tick-genome/dna/2018-06-28/pre-assembly_q...  \n",
       "1  s3://tick-genome/dna/2018-06-28/pre-assembly_q...  \n",
       "2  s3://tick-genome/dna/2018-06-28/pre-assembly_q...  \n",
       "3  s3://tick-genome/dna/2018-06-28/pre-assembly_q...  \n",
       "4  s3://tick-genome/dna/2018-06-28/pre-assembly_q...  \n",
       "5  s3://tick-genome/dna/2018-06-28/pre-assembly_q...  "
      ]
     },
     "execution_count": 35,
     "metadata": {},
     "output_type": "execute_result"
    }
   ],
   "source": [
    "aws_samples['id'] = aws_samples[3].str.extract('(.+_R[12])')\n",
    "# aws_samples['read_number'] = aws_samples[3].str.extract('_(R[12])_')\n",
    "aws_samples['reads'] = prefix + aws_samples[3]\n",
    "aws_samples['output'] = 's3://tick-genome/dna/2018-06-28/pre-assembly_quality_control/reports/'\n",
    "aws_samples"
   ]
  },
  {
   "cell_type": "code",
   "execution_count": 36,
   "metadata": {},
   "outputs": [
    {
     "data": {
      "text/html": [
       "<div>\n",
       "<style scoped>\n",
       "    .dataframe tbody tr th:only-of-type {\n",
       "        vertical-align: middle;\n",
       "    }\n",
       "\n",
       "    .dataframe tbody tr th {\n",
       "        vertical-align: top;\n",
       "    }\n",
       "\n",
       "    .dataframe thead th {\n",
       "        text-align: right;\n",
       "    }\n",
       "</style>\n",
       "<table border=\"1\" class=\"dataframe\">\n",
       "  <thead>\n",
       "    <tr style=\"text-align: right;\">\n",
       "      <th></th>\n",
       "      <th>id</th>\n",
       "      <th>reads</th>\n",
       "      <th>output</th>\n",
       "      <th>id</th>\n",
       "    </tr>\n",
       "  </thead>\n",
       "  <tbody>\n",
       "    <tr>\n",
       "      <th>0</th>\n",
       "      <td>Undetermined_S0_R1</td>\n",
       "      <td>s3://czbiohub-seqbot/fastqs/180628_A00111_0168...</td>\n",
       "      <td>s3://tick-genome/dna/2018-06-28/pre-assembly_q...</td>\n",
       "      <td>Undetermined_S0_R1</td>\n",
       "    </tr>\n",
       "    <tr>\n",
       "      <th>1</th>\n",
       "      <td>Undetermined_S0_R2</td>\n",
       "      <td>s3://czbiohub-seqbot/fastqs/180628_A00111_0168...</td>\n",
       "      <td>s3://tick-genome/dna/2018-06-28/pre-assembly_q...</td>\n",
       "      <td>Undetermined_S0_R2</td>\n",
       "    </tr>\n",
       "    <tr>\n",
       "      <th>2</th>\n",
       "      <td>tick_1_S1_R1</td>\n",
       "      <td>s3://czbiohub-seqbot/fastqs/180628_A00111_0168...</td>\n",
       "      <td>s3://tick-genome/dna/2018-06-28/pre-assembly_q...</td>\n",
       "      <td>tick_1_S1_R1</td>\n",
       "    </tr>\n",
       "    <tr>\n",
       "      <th>3</th>\n",
       "      <td>tick_1_S1_R2</td>\n",
       "      <td>s3://czbiohub-seqbot/fastqs/180628_A00111_0168...</td>\n",
       "      <td>s3://tick-genome/dna/2018-06-28/pre-assembly_q...</td>\n",
       "      <td>tick_1_S1_R2</td>\n",
       "    </tr>\n",
       "    <tr>\n",
       "      <th>4</th>\n",
       "      <td>tick_2_S2_R1</td>\n",
       "      <td>s3://czbiohub-seqbot/fastqs/180628_A00111_0168...</td>\n",
       "      <td>s3://tick-genome/dna/2018-06-28/pre-assembly_q...</td>\n",
       "      <td>tick_2_S2_R1</td>\n",
       "    </tr>\n",
       "    <tr>\n",
       "      <th>5</th>\n",
       "      <td>tick_2_S2_R2</td>\n",
       "      <td>s3://czbiohub-seqbot/fastqs/180628_A00111_0168...</td>\n",
       "      <td>s3://tick-genome/dna/2018-06-28/pre-assembly_q...</td>\n",
       "      <td>tick_2_S2_R2</td>\n",
       "    </tr>\n",
       "  </tbody>\n",
       "</table>\n",
       "</div>"
      ],
      "text/plain": [
       "                   id                                              reads  \\\n",
       "0  Undetermined_S0_R1  s3://czbiohub-seqbot/fastqs/180628_A00111_0168...   \n",
       "1  Undetermined_S0_R2  s3://czbiohub-seqbot/fastqs/180628_A00111_0168...   \n",
       "2        tick_1_S1_R1  s3://czbiohub-seqbot/fastqs/180628_A00111_0168...   \n",
       "3        tick_1_S1_R2  s3://czbiohub-seqbot/fastqs/180628_A00111_0168...   \n",
       "4        tick_2_S2_R1  s3://czbiohub-seqbot/fastqs/180628_A00111_0168...   \n",
       "5        tick_2_S2_R2  s3://czbiohub-seqbot/fastqs/180628_A00111_0168...   \n",
       "\n",
       "                                              output                  id  \n",
       "0  s3://tick-genome/dna/2018-06-28/pre-assembly_q...  Undetermined_S0_R1  \n",
       "1  s3://tick-genome/dna/2018-06-28/pre-assembly_q...  Undetermined_S0_R2  \n",
       "2  s3://tick-genome/dna/2018-06-28/pre-assembly_q...        tick_1_S1_R1  \n",
       "3  s3://tick-genome/dna/2018-06-28/pre-assembly_q...        tick_1_S1_R2  \n",
       "4  s3://tick-genome/dna/2018-06-28/pre-assembly_q...        tick_2_S2_R1  \n",
       "5  s3://tick-genome/dna/2018-06-28/pre-assembly_q...        tick_2_S2_R2  "
      ]
     },
     "execution_count": 36,
     "metadata": {},
     "output_type": "execute_result"
    }
   ],
   "source": [
    "samples = aws_samples[['id', 'reads', 'output', 'id']]\n",
    "samples"
   ]
  },
  {
   "cell_type": "code",
   "execution_count": null,
   "metadata": {
    "collapsed": true
   },
   "outputs": [],
   "source": [
    "# folder = '../pre_assembly_qc/fastqc/'\n",
    "# ! mkdir $folder"
   ]
  },
  {
   "cell_type": "code",
   "execution_count": 40,
   "metadata": {},
   "outputs": [
    {
     "name": "stdout",
     "output_type": "stream",
     "text": [
      "[Errno 2] No such file or directory: '../pre_assembly_quality_control/fastqc/'\n",
      "/Users/olgabot/code/tick-genome/pre_assembly_qc/fastqc\n"
     ]
    }
   ],
   "source": [
    "cd $folder"
   ]
  },
  {
   "cell_type": "code",
   "execution_count": 44,
   "metadata": {},
   "outputs": [],
   "source": [
    "samples.to_csv(f'samples.csv', index=False)"
   ]
  },
  {
   "cell_type": "code",
   "execution_count": 45,
   "metadata": {
    "collapsed": true
   },
   "outputs": [],
   "source": [
    "config = dict(program='../../reflow/fastqc.rf', runs_file='samples.csv')\n",
    "\n",
    "with open('config.json', 'w') as f:\n",
    "    json.dump(config, f)"
   ]
  },
  {
   "cell_type": "code",
   "execution_count": 46,
   "metadata": {},
   "outputs": [
    {
     "name": "stdout",
     "output_type": "stream",
     "text": [
      "total 80\r\n",
      "drwxr-xr-x  13 olgabot  staff   442B Jul 12 14:41 \u001b[1m\u001b[36m.\u001b[m\u001b[m/\r\n",
      "drwxr-xr-x   3 olgabot  staff   102B Jul 10 15:18 \u001b[1m\u001b[36m..\u001b[m\u001b[m/\r\n",
      "-rw-r--r--   1 olgabot  staff    65B Jul 12 20:03 config.json\r\n",
      "-rw-------   1 olgabot  staff   3.7K Jul 12 15:09 log.Undetermined_S0_R1\r\n",
      "-rw-------   1 olgabot  staff   3.7K Jul 12 15:08 log.Undetermined_S0_R2\r\n",
      "-rw-------   1 olgabot  staff   2.0K Jul 12 14:56 log.tick_1_S1_R1\r\n",
      "-rw-------   1 olgabot  staff   1.3K Jul 12 14:42 log.tick_1_S1_R2\r\n",
      "-rw-------   1 olgabot  staff   758B Jul 12 14:42 log.tick_2_S2_R1\r\n",
      "-rw-------   1 olgabot  staff   752B Jul 12 14:42 log.tick_2_S2_R2\r\n",
      "-rw-r--r--   1 olgabot  staff   1.2K Jul 12 20:03 samples.csv\r\n",
      "-rw-------   1 olgabot  staff     3B Jul 12 14:41 state.bak\r\n",
      "-rw-------   1 olgabot  staff   2.1K Jul 12 14:41 state.json\r\n",
      "-rwxr-xr-x   1 olgabot  staff     0B Jul 12 14:41 \u001b[31mstate.lock\u001b[m\u001b[m*\r\n"
     ]
    }
   ],
   "source": [
    "ls -lha"
   ]
  },
  {
   "cell_type": "code",
   "execution_count": null,
   "metadata": {
    "collapsed": true
   },
   "outputs": [],
   "source": []
  }
 ],
 "metadata": {
  "kernelspec": {
   "display_name": "Python 3.6 (tick-genome-env)",
   "language": "python",
   "name": "tick-genome-env"
  },
  "language_info": {
   "codemirror_mode": {
    "name": "ipython",
    "version": 3
   },
   "file_extension": ".py",
   "mimetype": "text/x-python",
   "name": "python",
   "nbconvert_exporter": "python",
   "pygments_lexer": "ipython3",
   "version": "3.6.6"
  }
 },
 "nbformat": 4,
 "nbformat_minor": 2
}
