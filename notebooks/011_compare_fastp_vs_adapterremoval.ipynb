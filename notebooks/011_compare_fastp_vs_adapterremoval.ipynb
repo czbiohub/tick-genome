{
 "cells": [
  {
   "cell_type": "markdown",
   "metadata": {},
   "source": [
    "## Removed by AdapterRemoval and kept by fastp\n",
    "\n",
    "This is a sequence that Fastp kept and AdapterRemoval removed"
   ]
  },
  {
   "cell_type": "code",
   "execution_count": 1,
   "metadata": {},
   "outputs": [],
   "source": [
    "seq = 'ANCTCGCCTATTGCCTCGGTGAAAGCGAATTATTGGAGAGAGCACGGCCTGACGAGAGACGTTTGGCGCCGTTTTATTCGTTCACCGTGACCACGATCTCGCGTATTGCCTCGGTGAAAGCGAATTATTGGAGAGTGCACGGC'\n"
   ]
  },
  {
   "cell_type": "code",
   "execution_count": 3,
   "metadata": {},
   "outputs": [
    {
     "data": {
      "text/html": [
       "<div>\n",
       "<style scoped>\n",
       "    .dataframe tbody tr th:only-of-type {\n",
       "        vertical-align: middle;\n",
       "    }\n",
       "\n",
       "    .dataframe tbody tr th {\n",
       "        vertical-align: top;\n",
       "    }\n",
       "\n",
       "    .dataframe thead th {\n",
       "        text-align: right;\n",
       "    }\n",
       "</style>\n",
       "<table border=\"1\" class=\"dataframe\">\n",
       "  <thead>\n",
       "    <tr style=\"text-align: right;\">\n",
       "      <th></th>\n",
       "      <th>0</th>\n",
       "      <th>1</th>\n",
       "    </tr>\n",
       "  </thead>\n",
       "  <tbody>\n",
       "    <tr>\n",
       "      <th>0</th>\n",
       "      <td>AGATGTGTATAAGAGACAG</td>\n",
       "      <td>AGATGTGTATAAGAGACAG</td>\n",
       "    </tr>\n",
       "    <tr>\n",
       "      <th>1</th>\n",
       "      <td>TCGTCGGCAGCGTCAGATGTGTATAAGAGACAG</td>\n",
       "      <td>GTCTCGTGGGCTCGGAGATGTGTATAAGAGACAG</td>\n",
       "    </tr>\n",
       "    <tr>\n",
       "      <th>2</th>\n",
       "      <td>CTGTCTCTTATACACATCTGACGCTGCCGACGA</td>\n",
       "      <td>CTGTCTCTTATACACATCTCCGAGCCCACGAGAC</td>\n",
       "    </tr>\n",
       "  </tbody>\n",
       "</table>\n",
       "</div>"
      ],
      "text/plain": [
       "                                   0                                   1\n",
       "0                AGATGTGTATAAGAGACAG                 AGATGTGTATAAGAGACAG\n",
       "1  TCGTCGGCAGCGTCAGATGTGTATAAGAGACAG  GTCTCGTGGGCTCGGAGATGTGTATAAGAGACAG\n",
       "2  CTGTCTCTTATACACATCTGACGCTGCCGACGA  CTGTCTCTTATACACATCTCCGAGCCCACGAGAC"
      ]
     },
     "execution_count": 3,
     "metadata": {},
     "output_type": "execute_result"
    }
   ],
   "source": [
    "import pandas as pd\n",
    "\n",
    "nextera = pd.read_csv('../pre_assembly_qc/nextera_pe_adapters.csv', header=None)\n",
    "nextera"
   ]
  },
  {
   "cell_type": "code",
   "execution_count": 7,
   "metadata": {},
   "outputs": [
    {
     "data": {
      "text/plain": [
       "0"
      ]
     },
     "execution_count": 7,
     "metadata": {},
     "output_type": "execute_result"
    }
   ],
   "source": [
    "def hamming(seq1, seq2):\n",
    "    return sum(s1 != s2 for s1, s2 in zip(seq1, seq2))\n",
    "\n",
    "hamming(\"asdf\", \"asdf\")"
   ]
  },
  {
   "cell_type": "code",
   "execution_count": 18,
   "metadata": {},
   "outputs": [],
   "source": [
    "def lowest_hamming(query, subject, min_overlap=8):\n",
    "    \"\"\"finds position in subject with lowest hamming distance to query\n",
    "    \n",
    "    assumes: len(subject) > len(query)\n",
    "    \"\"\"\n",
    "    \n",
    "    query_len = len(query)\n",
    "    min_hamming = query_len\n",
    "    argmin_hamming = None\n",
    "    \n",
    "    for i in range(len(subject) - min_overlap + 1):\n",
    "        substring = subject[i:(i+query_len)]\n",
    "        if len(substring) < query_len:\n",
    "            q = query[:len(substring)]\n",
    "        else:\n",
    "            q = query\n",
    "            \n",
    "        h = hamming(q, substring)\n",
    "        if h < min_hamming:\n",
    "            argmin_hamming = i\n",
    "            min_hamming = h\n",
    "    return i, min_hamming"
   ]
  },
  {
   "cell_type": "code",
   "execution_count": 19,
   "metadata": {},
   "outputs": [
    {
     "data": {
      "text/html": [
       "<div>\n",
       "<style scoped>\n",
       "    .dataframe tbody tr th:only-of-type {\n",
       "        vertical-align: middle;\n",
       "    }\n",
       "\n",
       "    .dataframe tbody tr th {\n",
       "        vertical-align: top;\n",
       "    }\n",
       "\n",
       "    .dataframe thead th {\n",
       "        text-align: right;\n",
       "    }\n",
       "</style>\n",
       "<table border=\"1\" class=\"dataframe\">\n",
       "  <thead>\n",
       "    <tr style=\"text-align: right;\">\n",
       "      <th></th>\n",
       "      <th>0</th>\n",
       "      <th>1</th>\n",
       "    </tr>\n",
       "  </thead>\n",
       "  <tbody>\n",
       "    <tr>\n",
       "      <th>0</th>\n",
       "      <td>(135, 6)</td>\n",
       "      <td>(135, 6)</td>\n",
       "    </tr>\n",
       "    <tr>\n",
       "      <th>1</th>\n",
       "      <td>(135, 3)</td>\n",
       "      <td>(135, 5)</td>\n",
       "    </tr>\n",
       "    <tr>\n",
       "      <th>2</th>\n",
       "      <td>(135, 7)</td>\n",
       "      <td>(135, 7)</td>\n",
       "    </tr>\n",
       "  </tbody>\n",
       "</table>\n",
       "</div>"
      ],
      "text/plain": [
       "          0         1\n",
       "0  (135, 6)  (135, 6)\n",
       "1  (135, 3)  (135, 5)\n",
       "2  (135, 7)  (135, 7)"
      ]
     },
     "execution_count": 19,
     "metadata": {},
     "output_type": "execute_result"
    }
   ],
   "source": [
    "nextera.applymap(lambda x: lowest_hamming(x, seq))"
   ]
  },
  {
   "cell_type": "code",
   "execution_count": 20,
   "metadata": {},
   "outputs": [
    {
     "data": {
      "text/plain": [
       "'TGCACGGC'"
      ]
     },
     "execution_count": 20,
     "metadata": {},
     "output_type": "execute_result"
    }
   ],
   "source": [
    "seq[135:]"
   ]
  },
  {
   "cell_type": "markdown",
   "metadata": {},
   "source": [
    "This looks like the beginning of the `TCGTCGGCAGCGTCAGATGTGTATAAGAGACAG` sequence"
   ]
  },
  {
   "cell_type": "code",
   "execution_count": 11,
   "metadata": {},
   "outputs": [
    {
     "data": {
      "text/plain": [
       "15"
      ]
     },
     "execution_count": 11,
     "metadata": {},
     "output_type": "execute_result"
    }
   ],
   "source": [
    "hamming(seq[124:], nextera.iloc[0, 0])"
   ]
  },
  {
   "cell_type": "code",
   "execution_count": 12,
   "metadata": {},
   "outputs": [
    {
     "data": {
      "text/plain": [
       "143"
      ]
     },
     "execution_count": 12,
     "metadata": {},
     "output_type": "execute_result"
    }
   ],
   "source": [
    "len(seq)"
   ]
  },
  {
   "cell_type": "code",
   "execution_count": 42,
   "metadata": {},
   "outputs": [
    {
     "data": {
      "text/plain": [
       "'GCG'"
      ]
     },
     "execution_count": 42,
     "metadata": {},
     "output_type": "execute_result"
    }
   ],
   "source": [
    "seq[140:150]"
   ]
  },
  {
   "cell_type": "markdown",
   "metadata": {},
   "source": [
    "## Kept by AdapterRemoval and removed by fastp\n",
    "\n",
    "fastp looks at overlap between R1 and R2 and infers adapters from there"
   ]
  },
  {
   "cell_type": "code",
   "execution_count": 22,
   "metadata": {},
   "outputs": [],
   "source": [
    "r1_seq = 'TNTCTCGTCAGGCCGTGCTCGCTCCAATAATTCGCTTTCACCGAGGCAATAGCCGAGATCGTGGTCACGTGGAACGAATAAAACGGCGCCAATCTACTCTCGTCAGGCCGTGCTCGCTCCAATAATTCGCTTTCTCCGAGGCG'"
   ]
  },
  {
   "cell_type": "code",
   "execution_count": 23,
   "metadata": {},
   "outputs": [],
   "source": [
    "r2_seq = 'NCCATTGCCTCGGTGAAAGCGAATTATTGGAGCGAGCACGGCCTGACGAGAGACTTTAGGCGAGGGTTTAGTCGTTCTCCGTGACCACGAGATCGGCTATTTCCTAGGTGAAGGCGGAGTATTGGAGCGAGCACGGCGTGACG'"
   ]
  },
  {
   "cell_type": "code",
   "execution_count": 24,
   "metadata": {},
   "outputs": [
    {
     "data": {
      "text/plain": [
       "(135, 7)"
      ]
     },
     "execution_count": 24,
     "metadata": {},
     "output_type": "execute_result"
    }
   ],
   "source": [
    "lowest_hamming(r1_seq, r2_seq)"
   ]
  },
  {
   "cell_type": "code",
   "execution_count": 26,
   "metadata": {},
   "outputs": [
    {
     "data": {
      "text/plain": [
       "'GCGTGACG'"
      ]
     },
     "execution_count": 26,
     "metadata": {},
     "output_type": "execute_result"
    }
   ],
   "source": [
    "r2_seq[135:]"
   ]
  },
  {
   "cell_type": "code",
   "execution_count": 31,
   "metadata": {},
   "outputs": [
    {
     "data": {
      "text/plain": [
       "'CGTCACGCCGTGCTCGCTCCAATACTCCGCCTTCACCTAGGAAATAGCCGATCTCGTGGTCACGGAGAACGACTAAACCCTCGCCTAAAGTCTCTCGTCAGGCCGTGCTCGCTCCAATAATTCGCTTTCACCGAGGCAATGGN'"
      ]
     },
     "execution_count": 31,
     "metadata": {},
     "output_type": "execute_result"
    }
   ],
   "source": [
    "def reverse_complement(sequence):\n",
    "    complements = {\"A\": \"T\", \"G\": \"C\", \"T\": \"A\", \"C\": \"G\", \"N\": \"N\"}\n",
    "    return ''.join(reversed([complements[s] for s in sequence]))\n",
    "r2_rc = reverse_complement(r2_seq)\n",
    "r2_rc"
   ]
  },
  {
   "cell_type": "code",
   "execution_count": 32,
   "metadata": {},
   "outputs": [
    {
     "data": {
      "text/plain": [
       "(135, 3)"
      ]
     },
     "execution_count": 32,
     "metadata": {},
     "output_type": "execute_result"
    }
   ],
   "source": [
    "lowest_hamming(r1_seq, r2_rc)"
   ]
  },
  {
   "cell_type": "code",
   "execution_count": 33,
   "metadata": {},
   "outputs": [
    {
     "data": {
      "text/plain": [
       "(135, 5)"
      ]
     },
     "execution_count": 33,
     "metadata": {},
     "output_type": "execute_result"
    }
   ],
   "source": [
    "lowest_hamming(r2_rc, r1_seq)\n"
   ]
  },
  {
   "cell_type": "code",
   "execution_count": 34,
   "metadata": {},
   "outputs": [
    {
     "data": {
      "text/plain": [
       "'CCGAGGCG'"
      ]
     },
     "execution_count": 34,
     "metadata": {},
     "output_type": "execute_result"
    }
   ],
   "source": [
    "\n",
    "r1_seq[135:]"
   ]
  },
  {
   "cell_type": "code",
   "execution_count": 35,
   "metadata": {},
   "outputs": [
    {
     "data": {
      "text/plain": [
       "7"
      ]
     },
     "execution_count": 35,
     "metadata": {},
     "output_type": "execute_result"
    }
   ],
   "source": [
    "hamming(r1_seq[135:], r2_rc[:8])"
   ]
  },
  {
   "cell_type": "code",
   "execution_count": null,
   "metadata": {},
   "outputs": [],
   "source": [
    "r2_rc[]"
   ]
  },
  {
   "cell_type": "markdown",
   "metadata": {},
   "source": [
    "I don't understand why fastp removed this since it doesn't match any adapters.. so I'd rather just use fastp for poly-G removal"
   ]
  },
  {
   "cell_type": "markdown",
   "metadata": {},
   "source": [
    "## These lines are different and I cna't tell why"
   ]
  },
  {
   "cell_type": "code",
   "execution_count": 36,
   "metadata": {},
   "outputs": [],
   "source": [
    "adapteremoval = 'ANCCTGCTAAGGCCGGCACCAAGAAAGACCGACGCCGAGGGTCCCATCACTACCTACGCCGCTTTCGGACGCTGCAACGTGGCCACTCCAATAACACCAACTGCAGCCGCCTCTCCGACACCTCACACGACCCCGACC'\n",
    "fastp = 'ANCCTGCTAAGGCCGGCACCAAGAAAGACCGACGCCGAGGGTCCCATCACTACCTACGCCGCTTTCGGACGCTGCAACGTGGCCACTCCAATAACACCAACTGCAGCCGCCTCTCCGACACCTCACACGACCCCGACCCTGTC'"
   ]
  },
  {
   "cell_type": "code",
   "execution_count": 37,
   "metadata": {},
   "outputs": [
    {
     "data": {
      "text/plain": [
       "False"
      ]
     },
     "execution_count": 37,
     "metadata": {},
     "output_type": "execute_result"
    }
   ],
   "source": [
    "adapteremoval == fastp"
   ]
  },
  {
   "cell_type": "code",
   "execution_count": 38,
   "metadata": {},
   "outputs": [
    {
     "data": {
      "text/plain": [
       "'..........................................................................................................................................'"
      ]
     },
     "execution_count": 38,
     "metadata": {},
     "output_type": "execute_result"
    }
   ],
   "source": [
    "''.join('.' if a == b else a for a, b in zip(adapteremoval, fastp))"
   ]
  },
  {
   "cell_type": "code",
   "execution_count": 39,
   "metadata": {},
   "outputs": [
    {
     "data": {
      "text/plain": [
       "138"
      ]
     },
     "execution_count": 39,
     "metadata": {},
     "output_type": "execute_result"
    }
   ],
   "source": [
    "len(adapteremoval)"
   ]
  },
  {
   "cell_type": "code",
   "execution_count": 40,
   "metadata": {},
   "outputs": [
    {
     "data": {
      "text/plain": [
       "143"
      ]
     },
     "execution_count": 40,
     "metadata": {},
     "output_type": "execute_result"
    }
   ],
   "source": [
    "len(fastp)"
   ]
  },
  {
   "cell_type": "code",
   "execution_count": 41,
   "metadata": {},
   "outputs": [
    {
     "data": {
      "text/plain": [
       "'CTGTC'"
      ]
     },
     "execution_count": 41,
     "metadata": {},
     "output_type": "execute_result"
    }
   ],
   "source": [
    "fastp[138:]"
   ]
  },
  {
   "cell_type": "markdown",
   "metadata": {},
   "source": [
    "But that's definitely an adapter ... `CTGTCTCTTATACACATCTGACGCTGCCGACGA` is the start of the sequence"
   ]
  },
  {
   "cell_type": "code",
   "execution_count": null,
   "metadata": {},
   "outputs": [],
   "source": []
  }
 ],
 "metadata": {
  "kernelspec": {
   "display_name": "Python [default]",
   "language": "python",
   "name": "python3"
  },
  "language_info": {
   "codemirror_mode": {
    "name": "ipython",
    "version": 3
   },
   "file_extension": ".py",
   "mimetype": "text/x-python",
   "name": "python",
   "nbconvert_exporter": "python",
   "pygments_lexer": "ipython3",
   "version": "3.6.5"
  }
 },
 "nbformat": 4,
 "nbformat_minor": 2
}
